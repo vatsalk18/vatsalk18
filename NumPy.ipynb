{
  "nbformat": 4,
  "nbformat_minor": 0,
  "metadata": {
    "colab": {
      "provenance": []
    },
    "kernelspec": {
      "name": "python3",
      "display_name": "Python 3"
    },
    "language_info": {
      "name": "python"
    }
  },
  "cells": [
    {
      "cell_type": "code",
      "execution_count": 1,
      "metadata": {
        "colab": {
          "base_uri": "https://localhost:8080/"
        },
        "id": "HCUaM5F_IHB7",
        "outputId": "90dcd501-a77d-40ec-d090-46c643f0468c"
      },
      "outputs": [
        {
          "output_type": "execute_result",
          "data": {
            "text/plain": [
              "(array([[11, 76, 25],\n",
              "        [57, 98, 73],\n",
              "        [66, 84, 39]]),\n",
              " array([[11, 57, 66],\n",
              "        [76, 98, 84],\n",
              "        [25, 73, 39]]))"
            ]
          },
          "metadata": {},
          "execution_count": 1
        }
      ],
      "source": [
        "#1. Create a 3x3 NumPy array with random integers between 1 and 100. Then, interchange its rows and columns.\n",
        "import numpy as np\n",
        "\n",
        "# Create a 3x3 NumPy array with random integers between 1 and 100\n",
        "random_array = np.random.randint(1, 101, size=(3, 3))\n",
        "\n",
        "# Interchange rows and columns (transpose the array)\n",
        "transposed_array = random_array.T\n",
        "\n",
        "random_array, transposed_array\n"
      ]
    },
    {
      "cell_type": "code",
      "source": [
        "#2. Generate a 1D NumPy array with 10 elements. Reshape it into a 2x5 array, then into a 5x2 array.\n",
        "# Generate a 1D NumPy array with 10 elements\n",
        "one_d_array = np.arange(1, 11)\n",
        "\n",
        "# Reshape into a 2x5 array\n",
        "array_2x5 = one_d_array.reshape(2, 5)\n",
        "\n",
        "# Reshape into a 5x2 array\n",
        "array_5x2 = one_d_array.reshape(5, 2)\n",
        "\n",
        "one_d_array, array_2x5, array_5x2\n"
      ],
      "metadata": {
        "colab": {
          "base_uri": "https://localhost:8080/"
        },
        "id": "1F5CItECIiJ2",
        "outputId": "7afd80af-e432-46e9-894a-0e16fdb3c858"
      },
      "execution_count": 2,
      "outputs": [
        {
          "output_type": "execute_result",
          "data": {
            "text/plain": [
              "(array([ 1,  2,  3,  4,  5,  6,  7,  8,  9, 10]),\n",
              " array([[ 1,  2,  3,  4,  5],\n",
              "        [ 6,  7,  8,  9, 10]]),\n",
              " array([[ 1,  2],\n",
              "        [ 3,  4],\n",
              "        [ 5,  6],\n",
              "        [ 7,  8],\n",
              "        [ 9, 10]]))"
            ]
          },
          "metadata": {},
          "execution_count": 2
        }
      ]
    },
    {
      "cell_type": "code",
      "source": [
        "#3. Create a 4x4 NumPy array with random float values. Add a border of zeros around it, resulting in a 6x6 array.\n",
        "# Create a 4x4 NumPy array with random float values\n",
        "random_float_array = np.random.rand(4, 4)\n",
        "\n",
        "# Add a border of zeros around it, resulting in a 6x6 array\n",
        "bordered_array = np.pad(random_float_array, pad_width=1, mode='constant', constant_values=0)\n",
        "\n",
        "random_float_array, bordered_array\n"
      ],
      "metadata": {
        "colab": {
          "base_uri": "https://localhost:8080/"
        },
        "id": "E8a5BSRTIt2I",
        "outputId": "d3c0df12-2c63-4b5d-bb89-0eaa1504bc8c"
      },
      "execution_count": 3,
      "outputs": [
        {
          "output_type": "execute_result",
          "data": {
            "text/plain": [
              "(array([[0.8058738 , 0.31611817, 0.10849822, 0.41898499],\n",
              "        [0.8109959 , 0.7439336 , 0.0409483 , 0.87285028],\n",
              "        [0.54384292, 0.11736599, 0.7565609 , 0.33582201],\n",
              "        [0.39582613, 0.2007095 , 0.45534215, 0.42088037]]),\n",
              " array([[0.        , 0.        , 0.        , 0.        , 0.        ,\n",
              "         0.        ],\n",
              "        [0.        , 0.8058738 , 0.31611817, 0.10849822, 0.41898499,\n",
              "         0.        ],\n",
              "        [0.        , 0.8109959 , 0.7439336 , 0.0409483 , 0.87285028,\n",
              "         0.        ],\n",
              "        [0.        , 0.54384292, 0.11736599, 0.7565609 , 0.33582201,\n",
              "         0.        ],\n",
              "        [0.        , 0.39582613, 0.2007095 , 0.45534215, 0.42088037,\n",
              "         0.        ],\n",
              "        [0.        , 0.        , 0.        , 0.        , 0.        ,\n",
              "         0.        ]]))"
            ]
          },
          "metadata": {},
          "execution_count": 3
        }
      ]
    },
    {
      "cell_type": "code",
      "source": [
        "# 5. Create a NumPy array of strings ['python', 'numpy', 'pandas']. Apply different case transformations(uppercase, lowercase, title case, etc.) to each element.\n",
        "# Create a NumPy array of strings\n",
        "string_array = np.array(['python', 'numpy', 'pandas'])\n",
        "\n",
        "# Apply case transformations\n",
        "uppercase_array = np.char.upper(string_array)\n",
        "lowercase_array = np.char.lower(string_array)\n",
        "titlecase_array = np.char.title(string_array)\n",
        "\n",
        "string_array, uppercase_array, lowercase_array, titlecase_array\n"
      ],
      "metadata": {
        "colab": {
          "base_uri": "https://localhost:8080/"
        },
        "id": "KLdGAwnnI2p2",
        "outputId": "5d380eb1-b8ac-490c-9641-789a59a08b87"
      },
      "execution_count": 4,
      "outputs": [
        {
          "output_type": "execute_result",
          "data": {
            "text/plain": [
              "(array(['python', 'numpy', 'pandas'], dtype='<U6'),\n",
              " array(['PYTHON', 'NUMPY', 'PANDAS'], dtype='<U6'),\n",
              " array(['python', 'numpy', 'pandas'], dtype='<U6'),\n",
              " array(['Python', 'Numpy', 'Pandas'], dtype='<U6'))"
            ]
          },
          "metadata": {},
          "execution_count": 4
        }
      ]
    },
    {
      "cell_type": "code",
      "source": [
        "# 6. Generate a NumPy array of words. Insert a space between each character of every word in the array.\n",
        "# Generate a NumPy array of words\n",
        "words_array = np.array(['hello', 'world', 'numpy'])\n",
        "\n",
        "# Insert a space between each character of every word\n",
        "spaced_array = np.char.join(' ', words_array)\n",
        "\n",
        "words_array, spaced_array\n"
      ],
      "metadata": {
        "colab": {
          "base_uri": "https://localhost:8080/"
        },
        "id": "xeOANJmAJ7U7",
        "outputId": "32f1fa42-15ee-45dc-d1f3-bac741cc9874"
      },
      "execution_count": 5,
      "outputs": [
        {
          "output_type": "execute_result",
          "data": {
            "text/plain": [
              "(array(['hello', 'world', 'numpy'], dtype='<U5'),\n",
              " array(['h e l l o', 'w o r l d', 'n u m p y'], dtype='<U9'))"
            ]
          },
          "metadata": {},
          "execution_count": 5
        }
      ]
    },
    {
      "cell_type": "code",
      "source": [
        "# 7. Create two 2D NumPy arrays and perform element-wise addition, subtraction, multiplication, and division.\n",
        "# Create two 2D NumPy arrays\n",
        "array1 = np.array([[1, 2, 3], [4, 5, 6]])\n",
        "array2 = np.array([[6, 5, 4], [3, 2, 1]])\n",
        "\n",
        "# Perform element-wise operations\n",
        "addition = array1 + array2\n",
        "subtraction = array1 - array2\n",
        "multiplication = array1 * array2\n",
        "division = array1 / array2\n",
        "\n",
        "array1, array2, addition, subtraction, multiplication, division\n"
      ],
      "metadata": {
        "colab": {
          "base_uri": "https://localhost:8080/"
        },
        "id": "JIHzGs_uKirr",
        "outputId": "44a9210d-3ad5-4d6d-e114-93cd8f0d2697"
      },
      "execution_count": 6,
      "outputs": [
        {
          "output_type": "execute_result",
          "data": {
            "text/plain": [
              "(array([[1, 2, 3],\n",
              "        [4, 5, 6]]),\n",
              " array([[6, 5, 4],\n",
              "        [3, 2, 1]]),\n",
              " array([[7, 7, 7],\n",
              "        [7, 7, 7]]),\n",
              " array([[-5, -3, -1],\n",
              "        [ 1,  3,  5]]),\n",
              " array([[ 6, 10, 12],\n",
              "        [12, 10,  6]]),\n",
              " array([[0.16666667, 0.4       , 0.75      ],\n",
              "        [1.33333333, 2.5       , 6.        ]]))"
            ]
          },
          "metadata": {},
          "execution_count": 6
        }
      ]
    },
    {
      "cell_type": "code",
      "source": [
        "# 8. Use NumPy to create a 5x5 identity matrix, then extract its diagonal elements.\n",
        "# Create a 5x5 identity matrix\n",
        "identity_matrix = np.eye(5)\n",
        "\n",
        "# Extract the diagonal elements\n",
        "diagonal_elements = np.diag(identity_matrix)\n",
        "\n",
        "identity_matrix, diagonal_elements\n"
      ],
      "metadata": {
        "colab": {
          "base_uri": "https://localhost:8080/"
        },
        "id": "BIO11FMzK9ji",
        "outputId": "18240236-02dd-4513-9054-6d67aa9e414b"
      },
      "execution_count": 7,
      "outputs": [
        {
          "output_type": "execute_result",
          "data": {
            "text/plain": [
              "(array([[1., 0., 0., 0., 0.],\n",
              "        [0., 1., 0., 0., 0.],\n",
              "        [0., 0., 1., 0., 0.],\n",
              "        [0., 0., 0., 1., 0.],\n",
              "        [0., 0., 0., 0., 1.]]),\n",
              " array([1., 1., 1., 1., 1.]))"
            ]
          },
          "metadata": {},
          "execution_count": 7
        }
      ]
    },
    {
      "cell_type": "code",
      "source": [
        "# 9. Generate a NumPy array of 100 random integers between 0 and 1000. Find and display all prime numbers in this array.\n",
        "# Function to check for prime numbers\n",
        "def is_prime(num):\n",
        "    if num < 2:\n",
        "        return False\n",
        "    for i in range(2, int(np.sqrt(num)) + 1):\n",
        "        if num % i == 0:\n",
        "            return False\n",
        "    return True\n",
        "\n",
        "# Generate a NumPy array of 100 random integers between 0 and 1000\n",
        "random_integers = np.random.randint(0, 1001, size=100)\n",
        "\n",
        "# Find all prime numbers in the array\n",
        "prime_numbers = random_integers[np.vectorize(is_prime)(random_integers)]\n",
        "\n",
        "random_integers, prime_numbers\n"
      ],
      "metadata": {
        "colab": {
          "base_uri": "https://localhost:8080/"
        },
        "id": "SYpYiysrLJB0",
        "outputId": "6706adba-5049-47b2-b462-a9e1ce7dfb9b"
      },
      "execution_count": 8,
      "outputs": [
        {
          "output_type": "execute_result",
          "data": {
            "text/plain": [
              "(array([399, 881, 801, 432, 343, 238, 310, 686, 388, 911, 337, 144, 437,\n",
              "        769, 903,   2, 809, 173, 286, 702, 552, 242, 501, 412, 430, 904,\n",
              "        586, 650, 918, 644, 135, 164, 729, 413, 691,  83, 392, 680, 155,\n",
              "        856, 327, 280, 110, 849, 766, 403, 746, 619, 832, 137, 198, 976,\n",
              "        843, 840, 901, 190, 674, 947, 344, 733, 823, 910, 571, 287, 638,\n",
              "        747, 210, 925, 254,   2, 662, 669, 369,  10, 129, 996, 971, 888,\n",
              "        707, 580, 629, 325, 941,  62, 984, 175, 401,   0, 649, 465, 950,\n",
              "        344, 859, 217, 640, 201, 677, 370, 663, 716]),\n",
              " array([881, 911, 337, 769,   2, 809, 173, 691,  83, 619, 137, 947, 733,\n",
              "        823, 571,   2, 971, 941, 401, 859, 677]))"
            ]
          },
          "metadata": {},
          "execution_count": 8
        }
      ]
    },
    {
      "cell_type": "code",
      "source": [
        "#10. Create a NumPy array representing daily temperatures for a month. Calculate and display the weekly averages.\n",
        "import numpy as np\n",
        "\n",
        "# Generate a NumPy array representing daily temperatures for a month (30 days)\n",
        "daily_temperatures = np.random.randint(15, 35, size=30)  # Temperatures between 15 and 35 degrees Celsius\n",
        "\n",
        "# Calculate weekly averages (assuming weeks are 7 days each)\n",
        "weekly_averages = daily_temperatures.reshape(4, 7).mean(axis=1)\n",
        "\n",
        "print(\"Daily Temperatures:\", daily_temperatures)\n",
        "print(\"Weekly Averages:\", weekly_averages)\n"
      ],
      "metadata": {
        "colab": {
          "base_uri": "https://localhost:8080/",
          "height": 211
        },
        "collapsed": true,
        "id": "RIpBxMCFLXx4",
        "outputId": "78319876-af0b-451f-9299-6f51b4476d86"
      },
      "execution_count": 10,
      "outputs": [
        {
          "output_type": "error",
          "ename": "ValueError",
          "evalue": "cannot reshape array of size 30 into shape (4,7)",
          "traceback": [
            "\u001b[0;31m---------------------------------------------------------------------------\u001b[0m",
            "\u001b[0;31mValueError\u001b[0m                                Traceback (most recent call last)",
            "\u001b[0;32m<ipython-input-10-0ee6db5cbba7>\u001b[0m in \u001b[0;36m<cell line: 8>\u001b[0;34m()\u001b[0m\n\u001b[1;32m      6\u001b[0m \u001b[0;34m\u001b[0m\u001b[0m\n\u001b[1;32m      7\u001b[0m \u001b[0;31m# Calculate weekly averages (assuming weeks are 7 days each)\u001b[0m\u001b[0;34m\u001b[0m\u001b[0;34m\u001b[0m\u001b[0m\n\u001b[0;32m----> 8\u001b[0;31m \u001b[0mweekly_averages\u001b[0m \u001b[0;34m=\u001b[0m \u001b[0mdaily_temperatures\u001b[0m\u001b[0;34m.\u001b[0m\u001b[0mreshape\u001b[0m\u001b[0;34m(\u001b[0m\u001b[0;36m4\u001b[0m\u001b[0;34m,\u001b[0m \u001b[0;36m7\u001b[0m\u001b[0;34m)\u001b[0m\u001b[0;34m.\u001b[0m\u001b[0mmean\u001b[0m\u001b[0;34m(\u001b[0m\u001b[0maxis\u001b[0m\u001b[0;34m=\u001b[0m\u001b[0;36m1\u001b[0m\u001b[0;34m)\u001b[0m\u001b[0;34m\u001b[0m\u001b[0;34m\u001b[0m\u001b[0m\n\u001b[0m\u001b[1;32m      9\u001b[0m \u001b[0;34m\u001b[0m\u001b[0m\n\u001b[1;32m     10\u001b[0m \u001b[0mprint\u001b[0m\u001b[0;34m(\u001b[0m\u001b[0;34m\"Daily Temperatures:\"\u001b[0m\u001b[0;34m,\u001b[0m \u001b[0mdaily_temperatures\u001b[0m\u001b[0;34m)\u001b[0m\u001b[0;34m\u001b[0m\u001b[0;34m\u001b[0m\u001b[0m\n",
            "\u001b[0;31mValueError\u001b[0m: cannot reshape array of size 30 into shape (4,7)"
          ]
        }
      ]
    },
    {
      "cell_type": "code",
      "source": [],
      "metadata": {
        "id": "XVYgr1TYLjlb"
      },
      "execution_count": null,
      "outputs": []
    }
  ]
}